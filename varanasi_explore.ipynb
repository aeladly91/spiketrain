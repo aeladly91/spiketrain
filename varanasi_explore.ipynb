{
 "cells": [
  {
   "cell_type": "code",
   "execution_count": 8,
   "metadata": {},
   "outputs": [],
   "source": [
    "import sklearn.metrics\n",
    "from sklearn.utils import graph_shortest_path\n",
    "import sklearn.feature_selection\n",
    "import scipy.sparse\n",
    "import time\n",
    "import matplotlib.pyplot as plt\n",
    "from helper import *\n",
    "from directed_information import *\n",
    "from calc import *\n",
    "# np.set_printoptions(4, threshold=np.nan)\n",
    "%matplotlib inline\n",
    "%reload_ext autoreload\n",
    "%autoreload 2\n",
    "\n",
    "NUM_NEU = 10 # num neurons to test\n",
    "NUM_FIRINGS = 1000"
   ]
  },
  {
   "cell_type": "code",
   "execution_count": 9,
   "metadata": {},
   "outputs": [],
   "source": [
    "data, adj = load_and_shape_varanasi(NUM_NEU)"
   ]
  },
  {
   "cell_type": "code",
   "execution_count": 10,
   "metadata": {},
   "outputs": [
    {
     "name": "stdout",
     "output_type": "stream",
     "text": [
      "Min avg gap:\n",
      " 2351.71\n",
      "Max avg gap:\n",
      " 3029.45\n",
      "avg % err\n",
      " 0.04051882069294679\n",
      "avg err\n",
      " 107.20633333333335\n",
      "avg std of times:\n",
      " 134.15980239460163\n",
      "std of avg diffs:\n",
      " 12.65707600139944\n"
     ]
    },
    {
     "data": {
      "image/png": "[encoded data removed]",
      "text/plain": [
       "<Figure size 432x288 with 1 Axes>"
      ]
     },
     "metadata": {
      "needs_background": "light"
     },
     "output_type": "display_data"
    }
   ],
   "source": [
    "plot_events(data)\n",
    "plt.savefig('figures/rastervaranasi')\n",
    "print_gap_stats(data)"
   ]
  },
  {
   "cell_type": "code",
   "execution_count": null,
   "metadata": {},
   "outputs": [],
   "source": []
  }
 ],
 "metadata": {
  "kernelspec": {
   "display_name": "Python 3",
   "language": "python",
   "name": "python3"
  },
  "language_info": {
   "codemirror_mode": {
    "name": "ipython",
    "version": 3
   },
   "file_extension": ".py",
   "mimetype": "text/x-python",
   "name": "python",
   "nbconvert_exporter": "python",
   "pygments_lexer": "ipython3",
   "version": "3.6.8"
  }
 },
 "nbformat": 4,
 "nbformat_minor": 2
}
