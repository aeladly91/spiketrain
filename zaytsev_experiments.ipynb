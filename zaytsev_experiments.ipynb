{
 "cells": [
  {
   "cell_type": "code",
   "execution_count": 1,
   "metadata": {},
   "outputs": [
    {
     "name": "stderr",
     "output_type": "stream",
     "text": [
      "100%|██████████| 2/2 [00:00<00:00, 269.61it/s]\n"
     ]
    }
   ],
   "source": [
    "import sklearn.metrics\n",
    "from sklearn.utils import graph_shortest_path\n",
    "import sklearn.feature_selection\n",
    "import scipy.sparse\n",
    "import time\n",
    "import matplotlib.pyplot as plt\n",
    "from helper import *\n",
    "from directed_information import *\n",
    "from calc import *\n",
    "# np.set_printoptions(4, threshold=np.nan)\n",
    "%matplotlib inline\n",
    "%reload_ext autoreload\n",
    "%autoreload 2\n",
    "\n",
    "NUM_NEU = 10 # num neurons to test\n",
    "NUM_FIRINGS = 1000"
   ]
  },
  {
   "cell_type": "code",
   "execution_count": 4,
   "metadata": {
    "scrolled": false
   },
   "outputs": [],
   "source": [
    "data, adj = load_and_shape_zaytsev(NUM_NEU, NUM_FIRINGS)"
   ]
  },
  {
   "cell_type": "code",
   "execution_count": 5,
   "metadata": {},
   "outputs": [
    {
     "name": "stderr",
     "output_type": "stream",
     "text": [
      "100%|██████████| 10/10 [00:46<00:00,  4.23s/it]\n",
      "100%|██████████| 10/10 [06:11<00:00, 36.74s/it]\n"
     ]
    }
   ],
   "source": [
    "BIN_SIZE = 10\n",
    "firings = gen_firings(data, BIN_SIZE)\n",
    "np.clip(firings, 0, 1, out=firings)\n",
    "MI = genMI(firings)\n",
    "DI = genDI(firings)"
   ]
  },
  {
   "cell_type": "code",
   "execution_count": 25,
   "metadata": {
    "scrolled": true
   },
   "outputs": [
    {
     "name": "stderr",
     "output_type": "stream",
     "text": [
      "/Users/ezshen/miniconda3/envs/p3/lib/python3.6/site-packages/ipykernel_launcher.py:1: RuntimeWarning: divide by zero encountered in log\n",
      "  \"\"\"Entry point for launching an IPython kernel.\n",
      "/Users/ezshen/miniconda3/envs/p3/lib/python3.6/site-packages/ipykernel_launcher.py:2: RuntimeWarning: divide by zero encountered in true_divide\n",
      "  \n"
     ]
    },
    {
     "data": {
      "image/png": "[encoded data removed]",
      "text/plain": [
       "<Figure size 432x288 with 4 Axes>"
      ]
     },
     "metadata": {
      "needs_background": "light"
     },
     "output_type": "display_data"
    }
   ],
   "source": [
    "predMI = -np.log(MI)\n",
    "predDI = 1/DI\n",
    "\n",
    "adj = adj[:NUM_NEU, :NUM_NEU]\n",
    "for i in range(len(adj)):\n",
    "    adj[i,i] = 0\n",
    "    predDI[i,i] = 0\n",
    "    predMI[i,i] = 0\n",
    "    \n",
    "plt.subplot(2, 2, 1)\n",
    "plt.imshow(normalize(predMI), cmap='hot', interpolation='nearest')\n",
    "plt.subplot(2, 2, 2)\n",
    "plt.imshow(normalize(predDI), cmap='hot', interpolation='nearest')\n",
    "plt.subplot(2, 2, 3)\n",
    "plt.imshow(normalize(adj), cmap='hot', interpolation='nearest')\n",
    "plt.colorbar()\n",
    "plt.savefig('figures/heatmapcimi')"
   ]
  },
  {
   "cell_type": "code",
   "execution_count": 22,
   "metadata": {},
   "outputs": [
    {
     "name": "stdout",
     "output_type": "stream",
     "text": [
      "0.8789852381738095\n",
      "0.8289873005099557\n"
     ]
    }
   ],
   "source": [
    "print(np.mean(np.abs(normalize(predDI) - adj)))\n",
    "print(np.mean(np.abs(normalize(predMI) - adj)))"
   ]
  }
 ],
 "metadata": {
  "kernelspec": {
   "display_name": "Python 3",
   "language": "python",
   "name": "python3"
  },
  "language_info": {
   "codemirror_mode": {
    "name": "ipython",
    "version": 3
   },
   "file_extension": ".py",
   "mimetype": "text/x-python",
   "name": "python",
   "nbconvert_exporter": "python",
   "pygments_lexer": "ipython3",
   "version": "3.6.8"
  }
 },
 "nbformat": 4,
 "nbformat_minor": 2
}
